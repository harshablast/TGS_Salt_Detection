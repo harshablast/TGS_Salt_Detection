{
 "cells": [
  {
   "cell_type": "code",
   "execution_count": 1,
   "metadata": {
    "collapsed": true
   },
   "outputs": [],
   "source": [
    "import cv2\n",
    "import numpy as np\n",
    "from matplotlib import pyplot as plt\n",
    "import os"
   ]
  },
  {
   "cell_type": "code",
   "execution_count": 2,
   "metadata": {},
   "outputs": [
    {
     "name": "stdout",
     "output_type": "stream",
     "text": [
      "(4000, 128, 128) (4000, 128, 128)\n"
     ]
    }
   ],
   "source": [
    "data_path = './train/images/'\n",
    "mask_path = './train/masks/'\n",
    "\n",
    "images_filelist = os.listdir(data_path)\n",
    "masks_filelist = os.listdir(mask_path)\n",
    "\n",
    "image_list = []\n",
    "mask_list = []\n",
    "\n",
    "for i in images_filelist:\n",
    "    img = cv2.imread(data_path + i)\n",
    "    img = cv2.cvtColor(img, cv2.COLOR_BGR2GRAY)\n",
    "    mask = cv2.imread(mask_path + i)\n",
    "    mask = cv2.cvtColor(mask, cv2.COLOR_BGR2GRAY)\n",
    "    \n",
    "    img = cv2.resize(img, (128, 128))\n",
    "    mask = cv2.resize(mask, (128, 128))\n",
    "    \n",
    "    image_list.append(img)\n",
    "    mask_list.append(mask)\n",
    "    \n",
    "    \n",
    "image_list = np.array(image_list)\n",
    "image_list = image_list.astype(float)\n",
    "image_list = image_list/255\n",
    "\n",
    "mask_list = np.array(mask_list)\n",
    "mask_list = mask_list.astype(float)\n",
    "mask_list = mask_list/255\n",
    "\n",
    "print(image_list.shape, mask_list.shape)"
   ]
  },
  {
   "cell_type": "code",
   "execution_count": 24,
   "metadata": {},
   "outputs": [
    {
     "name": "stdout",
     "output_type": "stream",
     "text": [
      "__________________________________________________________________________________________________\n",
      "Layer (type)                    Output Shape         Param #     Connected to                     \n",
      "==================================================================================================\n",
      "img (InputLayer)                (None, 128, 128, 1)  0                                            \n",
      "__________________________________________________________________________________________________\n",
      "conv2d_58 (Conv2D)              (None, 128, 128, 8)  80          img[0][0]                        \n",
      "__________________________________________________________________________________________________\n",
      "conv2d_59 (Conv2D)              (None, 128, 128, 8)  584         conv2d_58[0][0]                  \n",
      "__________________________________________________________________________________________________\n",
      "max_pooling2d_13 (MaxPooling2D) (None, 64, 64, 8)    0           conv2d_59[0][0]                  \n",
      "__________________________________________________________________________________________________\n",
      "conv2d_60 (Conv2D)              (None, 64, 64, 16)   1168        max_pooling2d_13[0][0]           \n",
      "__________________________________________________________________________________________________\n",
      "conv2d_61 (Conv2D)              (None, 64, 64, 16)   2320        conv2d_60[0][0]                  \n",
      "__________________________________________________________________________________________________\n",
      "max_pooling2d_14 (MaxPooling2D) (None, 32, 32, 16)   0           conv2d_61[0][0]                  \n",
      "__________________________________________________________________________________________________\n",
      "conv2d_62 (Conv2D)              (None, 32, 32, 32)   4640        max_pooling2d_14[0][0]           \n",
      "__________________________________________________________________________________________________\n",
      "conv2d_63 (Conv2D)              (None, 32, 32, 32)   9248        conv2d_62[0][0]                  \n",
      "__________________________________________________________________________________________________\n",
      "max_pooling2d_15 (MaxPooling2D) (None, 16, 16, 32)   0           conv2d_63[0][0]                  \n",
      "__________________________________________________________________________________________________\n",
      "conv2d_64 (Conv2D)              (None, 16, 16, 64)   18496       max_pooling2d_15[0][0]           \n",
      "__________________________________________________________________________________________________\n",
      "conv2d_65 (Conv2D)              (None, 16, 16, 64)   36928       conv2d_64[0][0]                  \n",
      "__________________________________________________________________________________________________\n",
      "max_pooling2d_16 (MaxPooling2D) (None, 8, 8, 64)     0           conv2d_65[0][0]                  \n",
      "__________________________________________________________________________________________________\n",
      "conv2d_66 (Conv2D)              (None, 8, 8, 128)    73856       max_pooling2d_16[0][0]           \n",
      "__________________________________________________________________________________________________\n",
      "conv2d_67 (Conv2D)              (None, 8, 8, 128)    147584      conv2d_66[0][0]                  \n",
      "__________________________________________________________________________________________________\n",
      "conv2d_transpose_13 (Conv2DTran (None, 16, 16, 64)   32832       conv2d_67[0][0]                  \n",
      "__________________________________________________________________________________________________\n",
      "concatenate_13 (Concatenate)    (None, 16, 16, 128)  0           conv2d_transpose_13[0][0]        \n",
      "                                                                 conv2d_65[0][0]                  \n",
      "__________________________________________________________________________________________________\n",
      "conv2d_68 (Conv2D)              (None, 16, 16, 64)   73792       concatenate_13[0][0]             \n",
      "__________________________________________________________________________________________________\n",
      "conv2d_69 (Conv2D)              (None, 16, 16, 64)   36928       conv2d_68[0][0]                  \n",
      "__________________________________________________________________________________________________\n",
      "conv2d_transpose_14 (Conv2DTran (None, 32, 32, 32)   8224        conv2d_69[0][0]                  \n",
      "__________________________________________________________________________________________________\n",
      "concatenate_14 (Concatenate)    (None, 32, 32, 64)   0           conv2d_transpose_14[0][0]        \n",
      "                                                                 conv2d_63[0][0]                  \n",
      "__________________________________________________________________________________________________\n",
      "conv2d_70 (Conv2D)              (None, 32, 32, 32)   18464       concatenate_14[0][0]             \n",
      "__________________________________________________________________________________________________\n",
      "conv2d_71 (Conv2D)              (None, 32, 32, 32)   9248        conv2d_70[0][0]                  \n",
      "__________________________________________________________________________________________________\n",
      "conv2d_transpose_15 (Conv2DTran (None, 64, 64, 16)   2064        conv2d_71[0][0]                  \n",
      "__________________________________________________________________________________________________\n",
      "concatenate_15 (Concatenate)    (None, 64, 64, 32)   0           conv2d_transpose_15[0][0]        \n",
      "                                                                 conv2d_61[0][0]                  \n",
      "__________________________________________________________________________________________________\n",
      "conv2d_72 (Conv2D)              (None, 64, 64, 16)   4624        concatenate_15[0][0]             \n",
      "__________________________________________________________________________________________________\n",
      "conv2d_73 (Conv2D)              (None, 64, 64, 16)   2320        conv2d_72[0][0]                  \n",
      "__________________________________________________________________________________________________\n",
      "conv2d_transpose_16 (Conv2DTran (None, 128, 128, 8)  520         conv2d_73[0][0]                  \n",
      "__________________________________________________________________________________________________\n",
      "concatenate_16 (Concatenate)    (None, 128, 128, 16) 0           conv2d_transpose_16[0][0]        \n",
      "                                                                 conv2d_59[0][0]                  \n",
      "__________________________________________________________________________________________________\n",
      "conv2d_74 (Conv2D)              (None, 128, 128, 8)  1160        concatenate_16[0][0]             \n",
      "__________________________________________________________________________________________________\n",
      "conv2d_75 (Conv2D)              (None, 128, 128, 8)  584         conv2d_74[0][0]                  \n",
      "__________________________________________________________________________________________________\n",
      "conv2d_76 (Conv2D)              (None, 128, 128, 1)  9           conv2d_75[0][0]                  \n",
      "==================================================================================================\n",
      "Total params: 485,673\n",
      "Trainable params: 485,673\n",
      "Non-trainable params: 0\n",
      "__________________________________________________________________________________________________\n"
     ]
    }
   ],
   "source": [
    "from keras.layers import Conv2D, MaxPooling2D, Conv2DTranspose, concatenate, Input\n",
    "from keras.models import Model\n",
    "\n",
    "\n",
    "input_img = Input((128, 128, 1), name='img')\n",
    "#input_features = Input((n_features, ), name='feat')\n",
    "\n",
    "c1 = Conv2D(8, (3, 3), activation='relu', padding='same') (input_img)\n",
    "c1 = Conv2D(8, (3, 3), activation='relu', padding='same') (c1)\n",
    "p1 = MaxPooling2D((2, 2)) (c1)\n",
    "\n",
    "c2 = Conv2D(16, (3, 3), activation='relu', padding='same') (p1)\n",
    "c2 = Conv2D(16, (3, 3), activation='relu', padding='same') (c2)\n",
    "p2 = MaxPooling2D((2, 2)) (c2)\n",
    "\n",
    "c3 = Conv2D(32, (3, 3), activation='relu', padding='same') (p2)\n",
    "c3 = Conv2D(32, (3, 3), activation='relu', padding='same') (c3)\n",
    "p3 = MaxPooling2D((2, 2)) (c3)\n",
    "\n",
    "c4 = Conv2D(64, (3, 3), activation='relu', padding='same') (p3)\n",
    "c4 = Conv2D(64, (3, 3), activation='relu', padding='same') (c4)\n",
    "p4 = MaxPooling2D(pool_size=(2, 2)) (c4)\n",
    "\n",
    "# Join features information in the depthest layer\n",
    "# f_repeat = RepeatVector(8*8)(input_features)\n",
    "# f_conv = Reshape((8, 8, n_features))(f_repeat)\n",
    "# p4_feat = concatenate([p4, f_conv], -1)\n",
    "\n",
    "c5 = Conv2D(128, (3, 3), activation='relu', padding='same') (p4)\n",
    "c5 = Conv2D(128, (3, 3), activation='relu', padding='same') (c5)\n",
    "\n",
    "u6 = Conv2DTranspose(64, (2, 2), strides=(2, 2), padding='same') (c5)\n",
    "u6 = concatenate([u6, c4])\n",
    "c6 = Conv2D(64, (3, 3), activation='relu', padding='same') (u6)\n",
    "c6 = Conv2D(64, (3, 3), activation='relu', padding='same') (c6)\n",
    "\n",
    "u7 = Conv2DTranspose(32, (2, 2), strides=(2, 2), padding='same') (c6)\n",
    "u7 = concatenate([u7, c3])\n",
    "c7 = Conv2D(32, (3, 3), activation='relu', padding='same') (u7)\n",
    "c7 = Conv2D(32, (3, 3), activation='relu', padding='same') (c7)\n",
    "\n",
    "u8 = Conv2DTranspose(16, (2, 2), strides=(2, 2), padding='same') (c7)\n",
    "u8 = concatenate([u8, c2])\n",
    "c8 = Conv2D(16, (3, 3), activation='relu', padding='same') (u8)\n",
    "c8 = Conv2D(16, (3, 3), activation='relu', padding='same') (c8)\n",
    "\n",
    "u9 = Conv2DTranspose(8, (2, 2), strides=(2, 2), padding='same') (c8)\n",
    "u9 = concatenate([u9, c1], axis=3)\n",
    "c9 = Conv2D(8, (3, 3), activation='relu', padding='same') (u9)\n",
    "c9 = Conv2D(8, (3, 3), activation='relu', padding='same') (c9)\n",
    "\n",
    "outputs = Conv2D(1, (1, 1), activation='sigmoid') (c9)\n",
    "\n",
    "model = Model(inputs=[input_img], outputs=[outputs])\n",
    "model.compile(optimizer='adam', loss='binary_crossentropy') #, metrics=[mean_iou]) # The mean_iou metrics seens to leak train and test values...\n",
    "model.summary()"
   ]
  },
  {
   "cell_type": "code",
   "execution_count": 4,
   "metadata": {
    "collapsed": true
   },
   "outputs": [],
   "source": [
    "from sklearn.model_selection import train_test_split\n",
    "from sklearn.utils import shuffle\n",
    "\n",
    "image_list, mask_list = shuffle(image_list, mask_list)\n",
    "X_train, X_test, y_train, y_test = train_test_split(image_list, mask_list)\n",
    "\n",
    "X_train = X_train.reshape(3000, 128, 128, 1)\n",
    "y_train = y_train.reshape(3000, 128, 128, 1)\n",
    "\n",
    "X_test = X_test.reshape(1000, 128, 128, 1)\n",
    "y_test = y_test.reshape(1000, 128, 128, 1)\n",
    "\n",
    "del image_list\n",
    "del mask_list"
   ]
  },
  {
   "cell_type": "code",
   "execution_count": 25,
   "metadata": {},
   "outputs": [
    {
     "name": "stdout",
     "output_type": "stream",
     "text": [
      "Train on 2700 samples, validate on 300 samples\n",
      "Epoch 1/20\n",
      "2700/2700 [==============================] - 37s 14ms/step - loss: 0.5799 - val_loss: 0.5309\n",
      "Epoch 2/20\n",
      "2700/2700 [==============================] - 37s 14ms/step - loss: 0.5422 - val_loss: 0.5257\n",
      "Epoch 3/20\n",
      "2700/2700 [==============================] - 37s 14ms/step - loss: 0.4632 - val_loss: 0.4437\n",
      "Epoch 4/20\n",
      "2700/2700 [==============================] - 36s 14ms/step - loss: 0.4045 - val_loss: 0.3822\n",
      "Epoch 5/20\n",
      "2700/2700 [==============================] - 36s 13ms/step - loss: 0.3527 - val_loss: 0.3376\n",
      "Epoch 6/20\n",
      "2700/2700 [==============================] - 36s 14ms/step - loss: 0.3225 - val_loss: 0.3414\n",
      "Epoch 7/20\n",
      "2700/2700 [==============================] - 36s 13ms/step - loss: 0.2999 - val_loss: 0.2786\n",
      "Epoch 8/20\n",
      "2700/2700 [==============================] - 36s 13ms/step - loss: 0.2819 - val_loss: 0.2637\n",
      "Epoch 9/20\n",
      "2700/2700 [==============================] - 36s 13ms/step - loss: 0.2644 - val_loss: 0.2548\n",
      "Epoch 10/20\n",
      "2700/2700 [==============================] - 36s 13ms/step - loss: 0.2651 - val_loss: 0.2984\n",
      "Epoch 11/20\n",
      "2700/2700 [==============================] - 36s 13ms/step - loss: 0.2551 - val_loss: 0.2210\n",
      "Epoch 12/20\n",
      "2700/2700 [==============================] - 36s 13ms/step - loss: 0.2310 - val_loss: 0.2434\n",
      "Epoch 13/20\n",
      "2700/2700 [==============================] - 36s 13ms/step - loss: 0.2297 - val_loss: 0.2173\n",
      "Epoch 14/20\n",
      "2700/2700 [==============================] - 36s 13ms/step - loss: 0.2214 - val_loss: 0.2180\n",
      "Epoch 15/20\n",
      "2700/2700 [==============================] - 36s 13ms/step - loss: 0.2083 - val_loss: 0.2150\n",
      "Epoch 16/20\n",
      "2700/2700 [==============================] - 35s 13ms/step - loss: 0.2090 - val_loss: 0.2005\n",
      "Epoch 17/20\n",
      "2700/2700 [==============================] - 35s 13ms/step - loss: 0.1955 - val_loss: 0.2138\n",
      "Epoch 18/20\n",
      "2700/2700 [==============================] - 35s 13ms/step - loss: 0.1923 - val_loss: 0.1982\n",
      "Epoch 19/20\n",
      "2700/2700 [==============================] - 35s 13ms/step - loss: 0.1960 - val_loss: 0.1941\n",
      "Epoch 20/20\n",
      "2700/2700 [==============================] - 35s 13ms/step - loss: 0.1953 - val_loss: 0.2076\n"
     ]
    }
   ],
   "source": [
    "hist = model.fit(X_train, y_train, validation_split = 0.1, verbose = 1, epochs = 20)"
   ]
  },
  {
   "cell_type": "code",
   "execution_count": 26,
   "metadata": {},
   "outputs": [
    {
     "name": "stdout",
     "output_type": "stream",
     "text": [
      "1000/1000 [==============================] - 3s 3ms/step\n"
     ]
    },
    {
     "data": {
      "text/plain": [
       "0.21817555046081544"
      ]
     },
     "execution_count": 26,
     "metadata": {},
     "output_type": "execute_result"
    }
   ],
   "source": [
    "model.evaluate(X_test, y_test)"
   ]
  },
  {
   "cell_type": "code",
   "execution_count": 27,
   "metadata": {},
   "outputs": [
    {
     "data": {
      "image/png": "[encoded data removed]",
      "text/plain": [
       "<matplotlib.figure.Figure at 0x18d83131908>"
      ]
     },
     "metadata": {},
     "output_type": "display_data"
    }
   ],
   "source": [
    "# # summarize history for accuracy\n",
    "# plt.plot(hist.history['acc'])\n",
    "# plt.plot(hist.history['val_acc'])\n",
    "# plt.title('model accuracy')\n",
    "# plt.ylabel('accuracy')\n",
    "# plt.xlabel('epoch')\n",
    "# plt.legend(['train', 'test'], loc='upper left')\n",
    "# plt.show()\n",
    "# summarize history for loss\n",
    "plt.plot(hist.history['loss'])\n",
    "plt.plot(hist.history['val_loss'])\n",
    "plt.title('model loss')\n",
    "plt.ylabel('loss')\n",
    "plt.xlabel('epoch')\n",
    "plt.legend(['train', 'test'], loc='upper left')\n",
    "plt.show()"
   ]
  },
  {
   "cell_type": "code",
   "execution_count": 28,
   "metadata": {
    "collapsed": true
   },
   "outputs": [],
   "source": [
    "model.save('basic_u_net_20.hdf5')"
   ]
  },
  {
   "cell_type": "code",
   "execution_count": null,
   "metadata": {},
   "outputs": [],
   "source": [
    "test_data_path = './test/images/'\n",
    "test_image_list = []\n",
    "\n",
    "for i in os.listdir(test_data_path):\n",
    "    img = cv2.imread(test_data_path + i)\n",
    "    test_image_list.append(img)\n",
    "\n",
    "test_image_list = np.array(test_image_list)\n",
    "test_image_list = test_image_list.astype(float)\n",
    "test_image_list = test_image_list/255\n",
    "\n"
   ]
  },
  {
   "cell_type": "code",
   "execution_count": null,
   "metadata": {
    "collapsed": true
   },
   "outputs": [],
   "source": []
  }
 ],
 "metadata": {
  "kernelspec": {
   "display_name": "Python 3",
   "language": "python",
   "name": "python3"
  },
  "language_info": {
   "codemirror_mode": {
    "name": "ipython",
    "version": 3
   },
   "file_extension": ".py",
   "mimetype": "text/x-python",
   "name": "python",
   "nbconvert_exporter": "python",
   "pygments_lexer": "ipython3",
   "version": "3.6.3"
  }
 },
 "nbformat": 4,
 "nbformat_minor": 2
}
